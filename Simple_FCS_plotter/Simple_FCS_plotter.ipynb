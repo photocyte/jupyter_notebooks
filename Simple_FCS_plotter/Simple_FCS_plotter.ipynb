{
 "cells": [
  {
   "cell_type": "code",
   "execution_count": 5,
   "metadata": {},
   "outputs": [
    {
     "data": {
      "text/markdown": [
       "## Simple FCS plotter\n",
       "This is a Jupyter notebook intended to take one or more .FCS flow cytometry files, and produce a 2D histogram from them.\n",
       "\n",
       "It is largely just a wrapper around fcsparser https://github.com/eyurtsev/fcsparser\n",
       "\n",
       "### Author(s): \n",
       "Timothy R. Fallon\n",
       "https://orcid.org/0000-0002-3048-7679\n",
       "\n",
       "### Version:\n",
       "2021-07-07, Draft 1\n",
       "\n",
       "### Confirmed instruments it works with:\n",
       "- Luminex Muse - https://www.luminexcorp.com/muse-cell-analyzer/ \n",
       "\n",
       "### Dependencies\n",
       "They (and more) are all within the Vagrantfile, but if you'd like to run standalone:\n",
       "- fcsparser (https://github.com/eyurtsev/fcsparser)\n",
       "- numpy\n",
       "- matplotlib\n",
       "- seaborn\n",
       "\n",
       "### How to use:\n",
       "1. Put your .FCS files and the Jupyter notebook in a subordinate directory, e.g. 20210707_Genome_sizing_QC\n",
       "2. Produce the `Vagrantfile` and spin up the VM with all the dependencies to run the Notebook (See code blocks below, in short: `vagrant up`). \n",
       "    - Note: This expects the Vagrantfile to be in the parent directory of the subordinate directory made in step (1)\n",
       "3. Enter the VM (via `vagrant ssh`), \n",
       "4. Startup the Jupyter notebook via Jupyter lab using the `run_jupyter.sh` script. (See 2 code blocks below)\n",
       "5. Use the Jupyter produced link at 127.0.0.1 (localhost) and port 13337. Should be something like ' http://127.0.0.1:13337/lab?token=400cd49f901b668534443b7bf2a453c36754ee677ebf7c02 '\n",
       "\n",
       "In short, once you have Vagrant installed, execute:\n",
       "```\n",
       "vagrant up ##This will take awhile, as all the dependencies have to get installed\n",
       "vagrant ssh\n",
       "cd /vagrant\n",
       "run_jupyter.sh\n",
       "```\n",
       "\n"
      ],
      "text/plain": [
       "<IPython.core.display.Markdown object>"
      ]
     },
     "metadata": {},
     "output_type": "display_data"
    }
   ],
   "source": [
    "from IPython.display import Markdown, display\n",
    "display(Markdown(\"README.md\"))"
   ]
  },
  {
   "cell_type": "code",
   "execution_count": 9,
   "metadata": {},
   "outputs": [
    {
     "data": {
      "text/plain": [
       "\u001b[0;31m##\u001b[0m\u001b[0;34m\u001b[0m\n",
       "\u001b[0;34m\u001b[0m\u001b[0;31m## This is the content of a Vagrantfile for Vagrant (https://www.vagrantup.com),\u001b[0m\u001b[0;34m\u001b[0m\n",
       "\u001b[0;34m\u001b[0m\u001b[0;31m## which allows for running of these Jupyter notebooks via a Vagrant VM\u001b[0m\u001b[0;34m\u001b[0m\n",
       "\u001b[0;34m\u001b[0m\u001b[0;31m## You need VirtualBox (https://www.virtualbox.org) or another VM application to use Vagrant\u001b[0m\u001b[0;34m\u001b[0m\n",
       "\u001b[0;34m\u001b[0m\u001b[0;31m## Why use a VM? I found installing dependencies on my base environment to be a headache.\u001b[0m\u001b[0;34m\u001b[0m\n",
       "\u001b[0;34m\u001b[0m\u001b[0;31m## This Linux VM seems more reliable.\u001b[0m\u001b[0;34m\u001b[0m\n",
       "\u001b[0;34m\u001b[0m\u001b[0;31m##\u001b[0m\u001b[0;34m\u001b[0m\n",
       "\u001b[0;34m\u001b[0m\u001b[0;31m## In short, once you have Vagrant installed, execute:\u001b[0m\u001b[0;34m\u001b[0m\n",
       "\u001b[0;34m\u001b[0m\u001b[0;31m## vagrant up ##This will take awhile, as all the dependencies have to get installed\u001b[0m\u001b[0;34m\u001b[0m\n",
       "\u001b[0;34m\u001b[0m\u001b[0;31m## vagrant ssh\u001b[0m\u001b[0;34m\u001b[0m\n",
       "\u001b[0;34m\u001b[0m\u001b[0;31m## cd /vagrant\u001b[0m\u001b[0;34m\u001b[0m\n",
       "\u001b[0;34m\u001b[0m\u001b[0;31m## run_jupyter.sh\u001b[0m\u001b[0;34m\u001b[0m\n",
       "\u001b[0;34m\u001b[0m\u001b[0;31m##\u001b[0m\u001b[0;34m\u001b[0m\n",
       "\u001b[0;34m\u001b[0m\u001b[0;34m\u001b[0m\n",
       "\u001b[0;34m\u001b[0m\u001b[0mVagrant\u001b[0m\u001b[0;34m.\u001b[0m\u001b[0mconfigure\u001b[0m\u001b[0;34m(\u001b[0m\u001b[0;34m\"2\"\u001b[0m\u001b[0;34m)\u001b[0m \u001b[0mdo\u001b[0m \u001b[0;34m|\u001b[0m\u001b[0mconfig\u001b[0m\u001b[0;34m|\u001b[0m\u001b[0;34m\u001b[0m\n",
       "\u001b[0;34m\u001b[0m  \u001b[0mconfig\u001b[0m\u001b[0;34m.\u001b[0m\u001b[0mvm\u001b[0m\u001b[0;34m.\u001b[0m\u001b[0mbox\u001b[0m \u001b[0;34m=\u001b[0m \u001b[0;34m\"sylabs/singularity-3.7-ubuntu-bionic64\"\u001b[0m\u001b[0;34m\u001b[0m\n",
       "\u001b[0;34m\u001b[0m  \u001b[0mconfig\u001b[0m\u001b[0;34m.\u001b[0m\u001b[0mvm\u001b[0m\u001b[0;34m.\u001b[0m\u001b[0mprovider\u001b[0m \u001b[0;34m\"virtualbox\"\u001b[0m \u001b[0mdo\u001b[0m \u001b[0;34m|\u001b[0m\u001b[0mv\u001b[0m\u001b[0;34m|\u001b[0m\u001b[0;34m\u001b[0m\n",
       "\u001b[0;34m\u001b[0m    \u001b[0mv\u001b[0m\u001b[0;34m.\u001b[0m\u001b[0mcpus\u001b[0m \u001b[0;34m=\u001b[0m \u001b[0;36m4\u001b[0m\u001b[0;34m\u001b[0m\n",
       "\u001b[0;34m\u001b[0m    \u001b[0mv\u001b[0m\u001b[0;34m.\u001b[0m\u001b[0mmemory\u001b[0m \u001b[0;34m=\u001b[0m \u001b[0;36m2048\u001b[0m\u001b[0;34m\u001b[0m\n",
       "\u001b[0;34m\u001b[0m  \u001b[0mend\u001b[0m\u001b[0;34m\u001b[0m\n",
       "\u001b[0;34m\u001b[0m  \u001b[0mconfig\u001b[0m\u001b[0;34m.\u001b[0m\u001b[0mvm\u001b[0m\u001b[0;34m.\u001b[0m\u001b[0mnetwork\u001b[0m \u001b[0;34m\"forwarded_port\"\u001b[0m\u001b[0;34m,\u001b[0m \u001b[0mguest\u001b[0m\u001b[0;34m:\u001b[0m \u001b[0;36m13337\u001b[0m\u001b[0;34m,\u001b[0m \u001b[0mhost\u001b[0m\u001b[0;34m:\u001b[0m \u001b[0;36m13337\u001b[0m\u001b[0;34m,\u001b[0m \u001b[0mprotocol\u001b[0m\u001b[0;34m:\u001b[0m \u001b[0;34m\"tcp\"\u001b[0m\u001b[0;34m,\u001b[0m\u001b[0;34m\u001b[0m\n",
       "\u001b[0;34m\u001b[0m    \u001b[0mauto_correct\u001b[0m\u001b[0;34m:\u001b[0m \u001b[0mtrue\u001b[0m\u001b[0;34m\u001b[0m\n",
       "\u001b[0;34m\u001b[0m  \u001b[0mconfig\u001b[0m\u001b[0;34m.\u001b[0m\u001b[0mvm\u001b[0m\u001b[0;34m.\u001b[0m\u001b[0mnetwork\u001b[0m \u001b[0;34m\"forwarded_port\"\u001b[0m\u001b[0;34m,\u001b[0m \u001b[0mguest\u001b[0m\u001b[0;34m:\u001b[0m \u001b[0;36m5900\u001b[0m\u001b[0;34m,\u001b[0m \u001b[0mhost\u001b[0m\u001b[0;34m:\u001b[0m \u001b[0;36m59007\u001b[0m\u001b[0;34m,\u001b[0m \u001b[0mprotocol\u001b[0m\u001b[0;34m:\u001b[0m \u001b[0;34m\"tcp\"\u001b[0m\u001b[0;34m,\u001b[0m\u001b[0;34m\u001b[0m\n",
       "\u001b[0;34m\u001b[0m    \u001b[0mauto_correct\u001b[0m\u001b[0;34m:\u001b[0m \u001b[0mtrue\u001b[0m\u001b[0;34m\u001b[0m\n",
       "\u001b[0;34m\u001b[0m  \u001b[0mconfig\u001b[0m\u001b[0;34m.\u001b[0m\u001b[0mssh\u001b[0m\u001b[0;34m.\u001b[0m\u001b[0mforward_x11\u001b[0m \u001b[0;34m=\u001b[0m \u001b[0mtrue\u001b[0m\u001b[0;34m\u001b[0m\n",
       "\u001b[0;34m\u001b[0m  \u001b[0mconfig\u001b[0m\u001b[0;34m.\u001b[0m\u001b[0mvm\u001b[0m\u001b[0;34m.\u001b[0m\u001b[0mprovision\u001b[0m \u001b[0;34m\"shell\"\u001b[0m\u001b[0;34m,\u001b[0m \u001b[0minline\u001b[0m\u001b[0;34m:\u001b[0m \u001b[0;34m<<\u001b[0m\u001b[0;34m-\u001b[0m\u001b[0mSHELL\u001b[0m\u001b[0;34m\u001b[0m\n",
       "\u001b[0;34m\u001b[0m    \u001b[0mapt\u001b[0m\u001b[0;34m-\u001b[0m\u001b[0mget\u001b[0m \u001b[0mupdate\u001b[0m\u001b[0;34m\u001b[0m\n",
       "\u001b[0;34m\u001b[0m    \u001b[0mapt\u001b[0m\u001b[0;34m-\u001b[0m\u001b[0mget\u001b[0m \u001b[0minstall\u001b[0m \u001b[0;34m-\u001b[0m\u001b[0my\u001b[0m \u001b[0mcifs\u001b[0m\u001b[0;34m-\u001b[0m\u001b[0mutils\u001b[0m \u001b[0;31m##So can access SMB shares\u001b[0m\u001b[0;34m\u001b[0m\n",
       "\u001b[0;34m\u001b[0m    \u001b[0mapt\u001b[0m\u001b[0;34m-\u001b[0m\u001b[0mget\u001b[0m \u001b[0minstall\u001b[0m \u001b[0;34m-\u001b[0m\u001b[0my\u001b[0m \u001b[0msmbclient\u001b[0m \u001b[0;31m##If SMB mounting problems, an alternative\u001b[0m\u001b[0;34m\u001b[0m\n",
       "\u001b[0;34m\u001b[0m    \u001b[0mapt\u001b[0m\u001b[0;34m-\u001b[0m\u001b[0mget\u001b[0m \u001b[0minstall\u001b[0m \u001b[0;34m-\u001b[0m\u001b[0my\u001b[0m \u001b[0mbuild\u001b[0m\u001b[0;34m-\u001b[0m\u001b[0messential\u001b[0m \u001b[0mcurl\u001b[0m\u001b[0;34m\u001b[0m\n",
       "\u001b[0;34m\u001b[0m    \u001b[0mapt\u001b[0m\u001b[0;34m-\u001b[0m\u001b[0mget\u001b[0m \u001b[0minstall\u001b[0m \u001b[0;34m-\u001b[0m\u001b[0my\u001b[0m \u001b[0mlibgl1\u001b[0m\u001b[0;34m-\u001b[0m\u001b[0mmesa\u001b[0m\u001b[0;34m-\u001b[0m\u001b[0mglx\u001b[0m \u001b[0;34m\u001b[0m\n",
       "\u001b[0;34m\u001b[0m    \u001b[0mapt\u001b[0m\u001b[0;34m-\u001b[0m\u001b[0mget\u001b[0m \u001b[0minstall\u001b[0m \u001b[0;34m-\u001b[0m\u001b[0my\u001b[0m \u001b[0mpython\u001b[0m\u001b[0;34m-\u001b[0m\u001b[0mnatsort\u001b[0m\u001b[0;34m\u001b[0m\n",
       "\u001b[0;34m\u001b[0m    \u001b[0mapt\u001b[0m\u001b[0;34m-\u001b[0m\u001b[0mget\u001b[0m \u001b[0minstall\u001b[0m \u001b[0;34m-\u001b[0m\u001b[0my\u001b[0m \u001b[0mtexlive\u001b[0m\u001b[0;34m-\u001b[0m\u001b[0mextra\u001b[0m\u001b[0;34m-\u001b[0m\u001b[0mutils\u001b[0m\u001b[0;34m\u001b[0m\n",
       "\u001b[0;34m\u001b[0m    \u001b[0mapt\u001b[0m\u001b[0;34m-\u001b[0m\u001b[0mget\u001b[0m \u001b[0minstall\u001b[0m \u001b[0;34m-\u001b[0m\u001b[0my\u001b[0m \u001b[0mwine\u001b[0m \u001b[0;31m## :) \u001b[0m\u001b[0;34m\u001b[0m\n",
       "\u001b[0;34m\u001b[0m    \u001b[0mapt\u001b[0m\u001b[0;34m-\u001b[0m\u001b[0mget\u001b[0m \u001b[0minstall\u001b[0m \u001b[0;34m-\u001b[0m\u001b[0my\u001b[0m \u001b[0msteam\u001b[0m\u001b[0;34m-\u001b[0m\u001b[0minstaller\u001b[0m \u001b[0;31m## :) \u001b[0m\u001b[0;34m\u001b[0m\n",
       "\u001b[0;34m\u001b[0m    \u001b[0mapt\u001b[0m\u001b[0;34m-\u001b[0m\u001b[0mget\u001b[0m \u001b[0minstall\u001b[0m \u001b[0;34m-\u001b[0m\u001b[0my\u001b[0m \u001b[0mgenometools\u001b[0m \u001b[0mlibgenometools0\u001b[0m \u001b[0mlibgenometools0\u001b[0m\u001b[0;34m-\u001b[0m\u001b[0mdev\u001b[0m\u001b[0;34m\u001b[0m\n",
       "\u001b[0;34m\u001b[0m    \u001b[0mapt\u001b[0m\u001b[0;34m-\u001b[0m\u001b[0mget\u001b[0m \u001b[0minstall\u001b[0m \u001b[0;34m-\u001b[0m\u001b[0my\u001b[0m \u001b[0mbc\u001b[0m \u001b[0mhtop\u001b[0m\u001b[0;34m\u001b[0m\n",
       "\u001b[0;34m\u001b[0m    \u001b[0mapt\u001b[0m\u001b[0;34m-\u001b[0m\u001b[0mget\u001b[0m \u001b[0minstall\u001b[0m \u001b[0;34m-\u001b[0m\u001b[0my\u001b[0m \u001b[0mxvfb\u001b[0m \u001b[0mxfce4\u001b[0m \u001b[0mx11vnc\u001b[0m \u001b[0;31m##For https://github.com/abiyani/automate-save-page-as\u001b[0m\u001b[0;34m\u001b[0m\n",
       "\u001b[0;34m\u001b[0m    \u001b[0mapt\u001b[0m\u001b[0;34m-\u001b[0m\u001b[0mget\u001b[0m \u001b[0minstall\u001b[0m \u001b[0;34m-\u001b[0m\u001b[0my\u001b[0m \u001b[0mcargo\u001b[0m \u001b[0mlibssl\u001b[0m\u001b[0;34m-\u001b[0m\u001b[0mdev\u001b[0m \u001b[0;31m##For https://github.com/Y2Z/monolith\u001b[0m\u001b[0;34m\u001b[0m\n",
       "\u001b[0;34m\u001b[0m    \u001b[0mapt\u001b[0m\u001b[0;34m-\u001b[0m\u001b[0mget\u001b[0m \u001b[0minstall\u001b[0m \u001b[0;34m-\u001b[0m\u001b[0my\u001b[0m \u001b[0mg\u001b[0m\u001b[0;34m+\u001b[0m\u001b[0;34m+\u001b[0m \u001b[0mcmake\u001b[0m \u001b[0mmake\u001b[0m \u001b[0mqtbase5\u001b[0m\u001b[0;34m-\u001b[0m\u001b[0mdev\u001b[0m \u001b[0mlibqt5sql5\u001b[0m\u001b[0;34m-\u001b[0m\u001b[0msqlite\u001b[0m \u001b[0muuid\u001b[0m\u001b[0;34m-\u001b[0m\u001b[0mdev\u001b[0m \u001b[0mlibcap\u001b[0m\u001b[0;34m-\u001b[0m\u001b[0mdev\u001b[0m \u001b[0muuid\u001b[0m\u001b[0;34m-\u001b[0m\u001b[0mruntime\u001b[0m \u001b[0;31m## For https://github.com/tycho-kirchner/shournal\u001b[0m\u001b[0;34m\u001b[0m\n",
       "\u001b[0;34m\u001b[0m    \u001b[0mapt\u001b[0m\u001b[0;34m-\u001b[0m\u001b[0mget\u001b[0m \u001b[0minstall\u001b[0m \u001b[0;34m-\u001b[0m\u001b[0my\u001b[0m \u001b[0mpython3\u001b[0m\u001b[0;34m-\u001b[0m\u001b[0mgi\u001b[0m \u001b[0mpython3\u001b[0m\u001b[0;34m-\u001b[0m\u001b[0mopengl\u001b[0m \u001b[0mgir1\u001b[0m\u001b[0;36m.2\u001b[0m\u001b[0;34m-\u001b[0m\u001b[0mgtk\u001b[0m\u001b[0;34m-\u001b[0m\u001b[0;36m3.0\u001b[0m \u001b[0mmesa\u001b[0m\u001b[0;34m-\u001b[0m\u001b[0mutils\u001b[0m \u001b[0mlibgl1\u001b[0m\u001b[0;34m-\u001b[0m\u001b[0mmesa\u001b[0m\u001b[0;34m-\u001b[0m\u001b[0mglx\u001b[0m \u001b[0;31m##For pycam\u001b[0m\u001b[0;34m\u001b[0m\n",
       "\u001b[0;34m\u001b[0m    \u001b[0mMINICONDA\u001b[0m\u001b[0;34m=\u001b[0m\u001b[0;34m\"Miniconda3-latest-Linux-x86_64.sh\"\u001b[0m\u001b[0;34m\u001b[0m\n",
       "\u001b[0;34m\u001b[0m    \u001b[0;32mif\u001b[0m \u001b[0;34m[\u001b[0m\u001b[0;34m[\u001b[0m\u001b[0;31m \u001b[0m\u001b[0;31m!\u001b[0m \u001b[0;34m-\u001b[0m\u001b[0mf\u001b[0m \u001b[0;34m\"/home/vagrant/${MINICONDA}\"\u001b[0m \u001b[0;34m]\u001b[0m\u001b[0;34m]\u001b[0m\u001b[0;34m;\u001b[0m \u001b[0mthen\u001b[0m\u001b[0;34m\u001b[0m\n",
       "\u001b[0;34m\u001b[0m       \u001b[0mwget\u001b[0m \u001b[0;34m-\u001b[0m\u001b[0mP\u001b[0m \u001b[0;34m/\u001b[0m\u001b[0mhome\u001b[0m\u001b[0;34m/\u001b[0m\u001b[0mvagrant\u001b[0m \u001b[0mhttps\u001b[0m\u001b[0;34m:\u001b[0m\u001b[0;34m//\u001b[0m\u001b[0mrepo\u001b[0m\u001b[0;34m.\u001b[0m\u001b[0manaconda\u001b[0m\u001b[0;34m.\u001b[0m\u001b[0mcom\u001b[0m\u001b[0;34m/\u001b[0m\u001b[0mminiconda\u001b[0m\u001b[0;34m/\u001b[0m\u001b[0;31m$\u001b[0m\u001b[0;34m{\u001b[0m\u001b[0mMINICONDA\u001b[0m\u001b[0;34m}\u001b[0m \u001b[0;36m2\u001b[0m\u001b[0;34m>\u001b[0m\u001b[0;34m/\u001b[0m\u001b[0mdev\u001b[0m\u001b[0;34m/\u001b[0m\u001b[0mnull\u001b[0m\u001b[0;34m\u001b[0m\n",
       "\u001b[0;34m\u001b[0m       \u001b[0mchmod\u001b[0m \u001b[0;34m+\u001b[0m\u001b[0mx\u001b[0m \u001b[0;34m/\u001b[0m\u001b[0mhome\u001b[0m\u001b[0;34m/\u001b[0m\u001b[0mvagrant\u001b[0m\u001b[0;34m/\u001b[0m\u001b[0;31m$\u001b[0m\u001b[0;34m{\u001b[0m\u001b[0mMINICONDA\u001b[0m\u001b[0;34m}\u001b[0m\u001b[0;34m\u001b[0m\n",
       "\u001b[0;34m\u001b[0m       \u001b[0msu\u001b[0m \u001b[0;34m-\u001b[0m\u001b[0;34m-\u001b[0m\u001b[0mlogin\u001b[0m \u001b[0;34m-\u001b[0m\u001b[0mc\u001b[0m \u001b[0;34m\"/home/vagrant/${MINICONDA} -b -p\"\u001b[0m \u001b[0mvagrant\u001b[0m\u001b[0;34m\u001b[0m\n",
       "\u001b[0;34m\u001b[0m       \u001b[0msu\u001b[0m \u001b[0;34m-\u001b[0m\u001b[0;34m-\u001b[0m\u001b[0mlogin\u001b[0m \u001b[0;34m-\u001b[0m\u001b[0mc\u001b[0m \u001b[0;34m\"/home/vagrant/miniconda3/bin/conda init\"\u001b[0m \u001b[0mvagrant\u001b[0m\u001b[0;34m\u001b[0m\n",
       "\u001b[0;34m\u001b[0m       \u001b[0msu\u001b[0m \u001b[0;34m-\u001b[0m\u001b[0;34m-\u001b[0m\u001b[0mlogin\u001b[0m \u001b[0;34m-\u001b[0m\u001b[0mc\u001b[0m \u001b[0;34m\"/home/vagrant/miniconda3/bin/conda update -n base -c defaults conda\"\u001b[0m \u001b[0mvagrant\u001b[0m\u001b[0;34m\u001b[0m\n",
       "\u001b[0;34m\u001b[0m       \u001b[0msu\u001b[0m \u001b[0;34m-\u001b[0m\u001b[0;34m-\u001b[0m\u001b[0mlogin\u001b[0m \u001b[0;34m-\u001b[0m\u001b[0mc\u001b[0m \u001b[0;34m\"/home/vagrant/miniconda3/bin/conda config --add channels bioconda\"\u001b[0m \u001b[0mvagrant\u001b[0m \u001b[0;34m\u001b[0m\n",
       "\u001b[0;34m\u001b[0m       \u001b[0msu\u001b[0m \u001b[0;34m-\u001b[0m\u001b[0;34m-\u001b[0m\u001b[0mlogin\u001b[0m \u001b[0;34m-\u001b[0m\u001b[0mc\u001b[0m \u001b[0;34m\"/home/vagrant/miniconda3/bin/conda config --add channels conda-forge\"\u001b[0m \u001b[0mvagrant\u001b[0m\u001b[0;34m\u001b[0m\n",
       "\u001b[0;34m\u001b[0m       \u001b[0msu\u001b[0m \u001b[0;34m-\u001b[0m\u001b[0;34m-\u001b[0m\u001b[0mlogin\u001b[0m \u001b[0;34m-\u001b[0m\u001b[0mc\u001b[0m \u001b[0;34m\"/home/vagrant/miniconda3/bin/conda install -y nextflow\"\u001b[0m \u001b[0mvagrant\u001b[0m\u001b[0;34m\u001b[0m\n",
       "\u001b[0;34m\u001b[0m       \u001b[0msu\u001b[0m \u001b[0;34m-\u001b[0m\u001b[0;34m-\u001b[0m\u001b[0mlogin\u001b[0m \u001b[0;34m-\u001b[0m\u001b[0mc\u001b[0m \u001b[0;34m\"/home/vagrant/miniconda3/bin/conda install -y snakemake\"\u001b[0m \u001b[0mvagrant\u001b[0m\u001b[0;34m\u001b[0m\n",
       "\u001b[0;34m\u001b[0m       \u001b[0msu\u001b[0m \u001b[0;34m-\u001b[0m\u001b[0;34m-\u001b[0m\u001b[0mlogin\u001b[0m \u001b[0;34m-\u001b[0m\u001b[0mc\u001b[0m \u001b[0;34m\"/home/vagrant/miniconda3/bin/conda install -y natsort\"\u001b[0m \u001b[0mvagrant\u001b[0m\u001b[0;34m\u001b[0m\n",
       "\u001b[0;34m\u001b[0m       \u001b[0msu\u001b[0m \u001b[0;34m-\u001b[0m\u001b[0;34m-\u001b[0m\u001b[0mlogin\u001b[0m \u001b[0;34m-\u001b[0m\u001b[0mc\u001b[0m \u001b[0;34m\"/home/vagrant/miniconda3/bin/conda install -y biopython\"\u001b[0m \u001b[0mvagrant\u001b[0m\u001b[0;34m\u001b[0m\n",
       "\u001b[0;34m\u001b[0m       \u001b[0msu\u001b[0m \u001b[0;34m-\u001b[0m\u001b[0;34m-\u001b[0m\u001b[0mlogin\u001b[0m \u001b[0;34m-\u001b[0m\u001b[0mc\u001b[0m \u001b[0;34m\"/home/vagrant/miniconda3/bin/conda install -y jupyter\"\u001b[0m \u001b[0mvagrant\u001b[0m\u001b[0;34m\u001b[0m\n",
       "\u001b[0;34m\u001b[0m       \u001b[0msu\u001b[0m \u001b[0;34m-\u001b[0m\u001b[0;34m-\u001b[0m\u001b[0mlogin\u001b[0m \u001b[0;34m-\u001b[0m\u001b[0mc\u001b[0m \u001b[0;34m\"/home/vagrant/miniconda3/bin/conda install -y jupyterlab\"\u001b[0m \u001b[0mvagrant\u001b[0m\u001b[0;34m\u001b[0m\n",
       "\u001b[0;34m\u001b[0m       \u001b[0msu\u001b[0m \u001b[0;34m-\u001b[0m\u001b[0;34m-\u001b[0m\u001b[0mlogin\u001b[0m \u001b[0;34m-\u001b[0m\u001b[0mc\u001b[0m \u001b[0;34m\"/home/vagrant/miniconda3/bin/conda install -y fcsparser\"\u001b[0m \u001b[0mvagrant\u001b[0m\u001b[0;34m\u001b[0m\n",
       "\u001b[0;34m\u001b[0m       \u001b[0msu\u001b[0m \u001b[0;34m-\u001b[0m\u001b[0;34m-\u001b[0m\u001b[0mlogin\u001b[0m \u001b[0;34m-\u001b[0m\u001b[0mc\u001b[0m \u001b[0;34m\"/home/vagrant/miniconda3/bin/conda install -y seaborn\"\u001b[0m \u001b[0mvagrant\u001b[0m\u001b[0;34m\u001b[0m\n",
       "\u001b[0;34m\u001b[0m    \u001b[0mecho\u001b[0m \u001b[0;34m\"alias moore-mount='sudo mkdir -p /mnt/moorelab;sudo mount -t cifs -o \"\u001b[0m\u001b[0musername\u001b[0m\u001b[0;34m=\u001b[0m\u001b[0mtfallon\u001b[0m\u001b[0;34m,\u001b[0m\u001b[0mdomain\u001b[0m\u001b[0;34m=\u001b[0m\u001b[0mAD\u001b[0m\u001b[0;34m,\u001b[0m\u001b[0mvers\u001b[0m\u001b[0;34m=\u001b[0m\u001b[0;36m3.0\u001b[0m\u001b[0;34m\" //sio-smb.ucsd.edu/moorelab /mnt/moorelab'\"\u001b[0m \u001b[0;34m>>\u001b[0m \u001b[0;34m/\u001b[0m\u001b[0mhome\u001b[0m\u001b[0;34m/\u001b[0m\u001b[0mvagrant\u001b[0m\u001b[0;34m/\u001b[0m\u001b[0;34m.\u001b[0m\u001b[0mbashrc\u001b[0m\u001b[0;34m\u001b[0m\n",
       "\u001b[0;34m\u001b[0m    \u001b[0mfi\u001b[0m\u001b[0;34m\u001b[0m\n",
       "\u001b[0;34m\u001b[0m\u001b[0mSHELL\u001b[0m\u001b[0;34m\u001b[0m\n",
       "\u001b[0;34m\u001b[0m\u001b[0mend\u001b[0m\u001b[0;34m\u001b[0m\u001b[0;34m\u001b[0m\u001b[0m\n"
      ]
     },
     "metadata": {},
     "output_type": "display_data"
    }
   ],
   "source": [
    "%pycat ../Vagrantfile"
   ]
  },
  {
   "cell_type": "code",
   "execution_count": 10,
   "metadata": {},
   "outputs": [
    {
     "data": {
      "text/plain": [
       "\u001b[0;31m#! /bin/bash\u001b[0m\u001b[0;34m\u001b[0m\n",
       "\u001b[0;34m\u001b[0m\u001b[0;31m## See: https://ipython.readthedocs.io/en/stable/interactive/magics.html#cellmagic-writefile\u001b[0m\u001b[0;34m\u001b[0m\n",
       "\u001b[0;34m\u001b[0m\u001b[0mecho\u001b[0m \u001b[0;34m\"****\"\u001b[0m\u001b[0;34m\u001b[0m\n",
       "\u001b[0;34m\u001b[0m\u001b[0mecho\u001b[0m \u001b[0;34m\"In order to use this Jupyter notebook, use the 127.0.0.1 (localhost)\"\u001b[0m\u001b[0;34m\u001b[0m\n",
       "\u001b[0;34m\u001b[0m\u001b[0mecho\u001b[0m \u001b[0;34m\"http link produced by Jupyter below.\"\u001b[0m\u001b[0;34m\u001b[0m\n",
       "\u001b[0;34m\u001b[0m\u001b[0mecho\u001b[0m \u001b[0;34m\"and navigate using the browser on the VM host (e.g., your laptop)\"\u001b[0m\u001b[0;34m\u001b[0m\n",
       "\u001b[0;34m\u001b[0m\u001b[0mecho\u001b[0m \u001b[0;34m\"Vagrant is already set up to forward this port properly.\"\u001b[0m\u001b[0;34m\u001b[0m\n",
       "\u001b[0;34m\u001b[0m\u001b[0mecho\u001b[0m \u001b[0;34m\"****\"\u001b[0m\u001b[0;34m\u001b[0m\n",
       "\u001b[0;34m\u001b[0m\u001b[0mecho\u001b[0m \u001b[0;34m\"Sleeping for 5 seconds...\"\u001b[0m\u001b[0;34m\u001b[0m\n",
       "\u001b[0;34m\u001b[0m\u001b[0msleep\u001b[0m \u001b[0;36m5\u001b[0m\u001b[0;34m\u001b[0m\n",
       "\u001b[0;34m\u001b[0m\u001b[0mecho\u001b[0m \u001b[0;34m\"Running jupyter notebook with cmd: jupyter lab --ip=0.0.0.0 --port 13337 --no-browser\"\u001b[0m\u001b[0;34m\u001b[0m\n",
       "\u001b[0;34m\u001b[0m\u001b[0mjupyter\u001b[0m \u001b[0mlab\u001b[0m \u001b[0;34m-\u001b[0m\u001b[0;34m-\u001b[0m\u001b[0mip\u001b[0m\u001b[0;34m=\u001b[0m\u001b[0;36m0.0\u001b[0m\u001b[0;36m.0\u001b[0m\u001b[0;36m.0\u001b[0m \u001b[0;34m-\u001b[0m\u001b[0;34m-\u001b[0m\u001b[0mport\u001b[0m \u001b[0;36m13337\u001b[0m \u001b[0;34m-\u001b[0m\u001b[0;34m-\u001b[0m\u001b[0mno\u001b[0m\u001b[0;34m-\u001b[0m\u001b[0mbrowser\u001b[0m\u001b[0;34m\u001b[0m\n",
       "\u001b[0;34m\u001b[0m\u001b[0;31m##\u001b[0m\u001b[0;34m\u001b[0m\u001b[0;34m\u001b[0m\u001b[0;34m\u001b[0m\u001b[0m\n"
      ]
     },
     "metadata": {},
     "output_type": "display_data"
    }
   ],
   "source": [
    "%pycat run_jupyter.sh"
   ]
  },
  {
   "cell_type": "code",
   "execution_count": 11,
   "metadata": {},
   "outputs": [],
   "source": [
    "##Have to make run_jupyter executable.\n",
    "!chmod +x run_jupyter.sh"
   ]
  },
  {
   "cell_type": "code",
   "execution_count": 12,
   "metadata": {},
   "outputs": [
    {
     "name": "stdout",
     "output_type": "stream",
     "text": [
      "user was: tim not 'vagrant'\n",
      "probably not running in a VM\n"
     ]
    }
   ],
   "source": [
    "import getpass\n",
    "user = getpass.getuser()\n",
    "if user != 'vagrant':\n",
    "    print(\"user is:\",user,\"not 'vagrant'\")\n",
    "    print(\"probably not running in a VM\")"
   ]
  },
  {
   "cell_type": "code",
   "execution_count": 13,
   "metadata": {},
   "outputs": [],
   "source": [
    "import fcsparser ##Parses the FCS files https://github.com/eyurtsev/fcsparser\n",
    "##See also: https://github.com/eyurtsev/FlowCytometryTools\n",
    "\n",
    "import seaborn ##Graphical plotting library\n",
    "import matplotlib ##Graphical plotting library\n",
    "\n",
    "import numpy ##Numerical manipulation library\n",
    "from collections import OrderedDict\n",
    "cmap = matplotlib.cm.get_cmap('Spectral')"
   ]
  },
  {
   "cell_type": "code",
   "execution_count": 14,
   "metadata": {},
   "outputs": [
    {
     "name": "stdout",
     "output_type": "stream",
     "text": [
      "Populating the interactive namespace from numpy and matplotlib\n"
     ]
    }
   ],
   "source": [
    "%pylab inline\n",
    "histo = False"
   ]
  },
  {
   "cell_type": "code",
   "execution_count": 15,
   "metadata": {},
   "outputs": [],
   "source": [
    "##This is a special modification to properly parse the Luminex Muse .FCS files.\n",
    "## See https://github.com/eyurtsev/fcsparser/issues/24\n",
    "import glob\n",
    "import os.path\n",
    "files = glob.glob(\"ADM_*.VIA.FCS\")\n",
    "for f in files:\n",
    "    handle = open(f,\"rb\")\n",
    "    data = handle.read()\n",
    "    split_data = data.split(b\"FCS3.0\")\n",
    "    for s in range(1,len(split_data)):\n",
    "        filename = f+\"_\"+str(s)+\".FCS\"\n",
    "        if os.path.isfile(filename):\n",
    "            ##Don't rewrite the file if it is already there\n",
    "            continue\n",
    "        handle = open(filename,\"wb\")\n",
    "        handle.write(b\"FCS3.0\"+split_data[s])\n",
    "        handle.close()"
   ]
  },
  {
   "cell_type": "code",
   "execution_count": 16,
   "metadata": {},
   "outputs": [
    {
     "name": "stdout",
     "output_type": "stream",
     "text": [
      "['example_24JUN2021_090627.VIA.FCS_4.FCS']\n"
     ]
    }
   ],
   "source": [
    "from natsort import natsorted\n",
    "files = glob.glob(\"*.FCS_*.FCS\")\n",
    "files = natsorted(files)\n",
    "print(files)"
   ]
  },
  {
   "cell_type": "code",
   "execution_count": 17,
   "metadata": {},
   "outputs": [],
   "source": [
    "keep_string = \"\""
   ]
  },
  {
   "cell_type": "code",
   "execution_count": 18,
   "metadata": {},
   "outputs": [
    {
     "name": "stdout",
     "output_type": "stream",
     "text": [
      "CCMP2941 24-JUN-2021 09:26:20 Yellow Fluorescence (YEL-HLin) median: 5.0276504\n",
      "CCMP2941 24-JUN-2021 09:26:20 Cell Size (FSC-HLog) median: 0.2301087\n",
      "determining limits...\n",
      "plotting hist2d...\n",
      "Plotting 1D histograms on X and Y axes\n",
      "saving plot to plots/CCMP2941 24-JUN-2021 09:26:20.png...\n",
      "showing plot...\n"
     ]
    },
    {
     "data": {
      "image/png": "[encoded data removed]",
      "text/plain": [
       "<Figure size 216x216 with 3 Axes>"
      ]
     },
     "metadata": {
      "needs_background": "light"
     },
     "output_type": "display_data"
    }
   ],
   "source": [
    "## Make plots with fcsparser + pandas + matplotlib alone\n",
    "\n",
    "## This plotting is a little finicky, but works OK.\n",
    "\n",
    "## Based off this example: https://matplotlib.org/2.0.2/examples/pylab_examples/scatter_hist.html\n",
    "\n",
    "from pathlib import Path\n",
    "\n",
    "i=0\n",
    "for f in files:\n",
    "    meta , data = fcsparser.parse(f,data_set=0)\n",
    "    sample_name = meta['GTI$SAMPLEID']+\" \"+meta['GTI$ANALYSISDATE']+\" \"+meta['GTI$ANALYSISTIME']\n",
    "    if keep_string not in sample_name.lower():\n",
    "        continue\n",
    "    \n",
    "    ## Available variables, at least for the Muse.\n",
    "    #['Forward Scatter (FSC-HLin)', 'Forward Scatter Width (FSC-W)',\n",
    "    #   'Yellow Fluorescence (YEL-HLin)', 'Yellow Fluorescence Width (YEL-W)',\n",
    "    #   'Red Fluorescence (RED-HLin)', 'Red Fluorescence Width (RED-W)', 'Time',\n",
    "    #   'Cell Size (FSC-HLog)', 'Viability (YEL-HLog)',\n",
    "    #   'Nucleation (RED-HLog)']\n",
    "    #col1='Yellow Fluorescence (YEL-HLin)'\n",
    "    #col2='Forward Scatter (FSC-HLin)'\n",
    "    \n",
    "    col1='Yellow Fluorescence (YEL-HLin)' ##Viability (YEL-HLog)\n",
    "    col2='Cell Size (FSC-HLog)'\n",
    "    col3='Forward Scatter (FSC-HLin)'\n",
    "    \n",
    "    ### Calculate median\n",
    "    subdata=data[data[col1] > 5] ##Filter based on col1 threshold, just used for Median calculation\n",
    "    subdata=subdata[subdata[col2] < 2.0]\n",
    "    col1_median = numpy.median(subdata[col1].values)\n",
    "    col2_median = numpy.median(subdata[col2].values)\n",
    "    ## Converting from log to linear\n",
    "    #print(sample_name,col1+\" median:\",col1_median,\"({lin})\".format(lin=10**col1_median))\n",
    "    #print(sample_name,col2+\" median:\",col2_median,\"({lin})\".format(lin=10**col2_median))\n",
    "    ## If already linear, don't need to convert\n",
    "    print(sample_name,col1+\" median:\",col1_median)\n",
    "    print(sample_name,col2+\" median:\",col2_median)\n",
    "    \n",
    "    \n",
    "    ### Warning: If the Flow cytometry events are outside these limits, they aren't shown on the plots/histograms.\n",
    "    ### For minimum interpretation bias, set the min to 0, and the maxes to something fairly large.\n",
    "    x_min = 0\n",
    "    x_max = 75\n",
    "    y_min = 0.02\n",
    "    y_max = 3.7\n",
    "    \n",
    "    print(\"determining limits...\")\n",
    "    # now determine nice limits by hand:\n",
    "    binwidth_x = 1 ##Originally 0.01\n",
    "    binwidth_y = 0.05\n",
    "    lim_x = np.ceil(np.abs([x_min , x_max]).max() / binwidth_x) * binwidth_x\n",
    "    lim_y = np.ceil(np.abs([y_min, y_max]).max() / binwidth_y) * binwidth_y\n",
    "        \n",
    "    bins_x = np.arange(x_min, x_max + binwidth_x, binwidth_x)\n",
    "    bins_y = np.arange(y_min, y_max + binwidth_y, binwidth_y)\n",
    "    \n",
    "    x=data[col1]\n",
    "    y=data[col2]\n",
    "    \n",
    "    # definitions for the axes\n",
    "    left, width = 0, 1\n",
    "    bottom, height = 0, 1\n",
    "    spacing = 0.005\n",
    "\n",
    "\n",
    "    rect_scatter = [left, bottom, width, height]\n",
    "    rect_histx = [left, bottom + height + spacing, width, 0.2]\n",
    "    rect_histy = [left + width + spacing, bottom, 0.2, height]\n",
    "    \n",
    "    ## BELOW scatter plot\n",
    "    \n",
    "    # start with a rectangular Figure\n",
    "    pyplot.figure(figsize=(3, 3))\n",
    "\n",
    "    ## Define the axes\n",
    "    ax_scatter = pyplot.axes(rect_scatter)\n",
    "    ax_scatter.tick_params(direction='in', top=True, right=True)\n",
    "    \n",
    "    ax_scatter.set_xlim(x_min,x_max) ## 0,3.7 for H-LOG\n",
    "    ax_scatter.set_ylim(y_min,y_max) ## 0,3.7 for H-LOG\n",
    "    \n",
    "    ax_histx = pyplot.axes(rect_histx)\n",
    "    ax_histx.tick_params(direction='in', labelbottom=False)\n",
    "    ax_histy = pyplot.axes(rect_histy)\n",
    "    ax_histy.tick_params(direction='in', labelleft=False)\n",
    "\n",
    "    ## Draw vertical lines on histograms\n",
    "    ax_histx.axvline(x=col1_median)\n",
    "    \n",
    "    rgba = cmap(i*0.1)\n",
    "    \n",
    "    print(\"plotting hist2d...\")\n",
    "    # the scatter plot:\n",
    "    ax_scatter.hist2d(x, y,bins=[bins_x,bins_y]) ##Color=rgba\n",
    "    ax_scatter.set_xlabel(col1)\n",
    "    ax_scatter.set_ylabel(col2)\n",
    "    \n",
    "    print(\"Plotting 1D histograms on X and Y axes\")\n",
    "    ax_histx.hist(x, bins=bins_x,color=rgba)\n",
    "    ax_histx.set_title(sample_name+\"\\n\"+f+\"\\nn=\"+str(len(x)))\n",
    "    ax_histy.hist(y, bins=bins_y, orientation='horizontal',color=rgba)\n",
    "\n",
    "    ax_histx.set_xlim(ax_scatter.get_xlim())\n",
    "    ax_histy.set_ylim(ax_scatter.get_ylim())\n",
    "    \n",
    "    fig = pyplot.gcf()\n",
    "    plot_name = \"plots/\"+sample_name+\".png\"\n",
    "    Path(\"plots\").mkdir(parents=False, exist_ok=True)\n",
    "    print(\"saving plot to {PLOT}...\".format(PLOT=plot_name))\n",
    "    fig.savefig(plot_name,bbox_inches='tight')\n",
    "    \n",
    "    print(\"showing plot...\")\n",
    "    pyplot.show()\n",
    "    \n",
    "\n",
    "    ## Below: HISTOGRAM\n",
    "    #if histo == False:\n",
    "    #    pyplot.xlabel(col1)\n",
    "    #    pyplot.ylabel(col2)\n",
    "    #    #pyplot.show(scatter(data[col1], data[col2], alpha=0.005, color='gray'))\n",
    "    #    pyplot.xlim(0,2000)\n",
    "    #    rgba = cmap(i*0.05)\n",
    "    #    hist(data[col2], color=rgba,bins=100,alpha=0.3)\n",
    "    #    #pyplot.show(hist(data[col2], color='gray',bins=500))\n",
    "    \n",
    "    i+=1\n"
   ]
  },
  {
   "cell_type": "code",
   "execution_count": 19,
   "metadata": {},
   "outputs": [],
   "source": [
    "##Using FlowCytometryTools instead:\n",
    "# import FlowCytometryTools\n",
    "\n",
    "# for f in files:\n",
    "#     sample = FlowCytometryTools.FCMeasurement(ID=f, datafile=f)\n",
    "#     sample_name = sample.meta['GTI$SAMPLEID']+\" \"+sample.meta['GTI$ANALYSISDATE']+\" \"+sample.meta['GTI$ANALYSISTIME']\n",
    "#     if keep_string not in sample_name.lower():\n",
    "#         continue\n",
    "#     print(sample.channel_names)\n",
    "#     fsc_gate_a = FlowCytometryTools.ThresholdGate(1.5, ['Cell Size (FSC-HLog)'], region='above')\n",
    "#     yel_gate_a = FlowCytometryTools.ThresholdGate(3.2, ['Viability (YEL-HLog)'], region='above')\n",
    "#     width_gate_b = FlowCytometryTools.ThresholdGate(8.5, ['Yellow Fluorescence Width (YEL-W)'], region='below')\n",
    "#     width_gate_a = FlowCytometryTools.ThresholdGate(2.5, ['Yellow Fluorescence Width (YEL-W)'], region='above')\n",
    "#     red_gate_b = FlowCytometryTools.ThresholdGate(5.0, ['Nucleation (RED-HLog)'], region='below')\n",
    "#     yel_gate_b = FlowCytometryTools.ThresholdGate(5.0, ['Viability (YEL-HLog)'], region='below')\n",
    "\n",
    "#     print(f,sample.meta['GTI$SAMPLEID'])\n",
    "#     pyplot.show(sample.plot(['Viability (YEL-HLog)','Cell Size (FSC-HLog)'], gates=[fsc_gate_a,yel_gate_a], bins=100))\n",
    "#     print(f,sample.meta['GTI$SAMPLEID'])\n",
    "#     pyplot.show(sample.plot(['Yellow Fluorescence Width (YEL-W)','Nucleation (RED-HLog)'],gates=[width_gate_a,width_gate_b],bins=100))\n",
    "#     #print(f,sample.meta['GTI$SAMPLEID'])\n",
    "#     #pyplot.show(sample.plot(['Yellow Fluorescence Width (YEL-W)','Red Fluorescence Width (RED-W)'],gates=[width_gate_a,width_gate_b],bins=100))\n",
    "#     print(f,sample.meta['GTI$SAMPLEID'])\n",
    "#     pyplot.show(sample.plot(['Viability (YEL-HLog)','Nucleation (RED-HLog)'],gates=[red_gate_b,yel_gate_b],bins=100))\n",
    "#     gated_sample = sample.gate(fsc_gate_a)\n",
    "#     gated_sample = gated_sample.gate(yel_gate_a)\n",
    "#     gated_sample = gated_sample.gate(width_gate_b)\n",
    "#     gated_sample = gated_sample.gate(width_gate_a)\n",
    "#     gated_sample = gated_sample.gate(red_gate_b)\n",
    "#     gated_sample = gated_sample.gate(yel_gate_b)\n",
    "#     print(f,sample.meta['GTI$SAMPLEID'])\n",
    "#     pyplot.show(gated_sample.plot(['Viability (YEL-HLog)','Cell Size (FSC-HLog)'], bins=100))\n",
    "#     print(f,sample.meta['GTI$SAMPLEID'])\n",
    "#     pyplot.show(gated_sample.plot(['Yellow Fluorescence Width (YEL-W)','Nucleation (RED-HLog)'], bins=100))\n",
    "#     print(f,sample.meta['GTI$SAMPLEID'])\n",
    "#     pyplot.show(gated_sample.plot(['Viability (YEL-HLog)','Nucleation (RED-HLog)'], bins=100))\n",
    "    \n",
    "#     ##Start plotting of 2D histogram w/ histogram edges\n",
    "#     #col1='Viability (YEL-HLog)'\n",
    "#     col1='Yellow Fluorescence (YEL-HLin)'\n",
    "#     #col2='Cell Size (FSC-HLog)'\n",
    "#     col2='Forward Scatter (FSC-HLin)'\n",
    "#     col3='Red Fluorescence (RED-HLin)'\n",
    "    \n",
    "#     data = gated_sample.data\n",
    "    \n",
    "#     #subdata=data[data[col1]] ##In case I wanted to do a dataframe selection\n",
    "#     subdata=data\n",
    "#     print(sample_name,col1+\" median:\",numpy.median(subdata[col1].values))\n",
    "#     print(sample_name,col2+\" median:\",numpy.median(subdata[col2].values))\n",
    "#     print(sample_name,col3+\" median:\",numpy.median(subdata[col3].values))\n",
    "    \n",
    "    \n",
    "#     xy=data[[col1,col2]]\n",
    "#     #xy=xy[xy[col1] < 257]\n",
    "#     #xy=xy[xy[col2] < 257]\n",
    "#     x=xy[col1]\n",
    "#     y=xy[col2]\n",
    "#     # definitions for the axes\n",
    "#     left, width = 0, 1\n",
    "#     bottom, height = 0, 1\n",
    "#     spacing = 0.005\n",
    "\n",
    "\n",
    "#     rect_scatter = [left, bottom, width, height]\n",
    "#     rect_histx = [left, bottom + height + spacing, width, 0.2]\n",
    "#     rect_histy = [left + width + spacing, bottom, 0.2, height]\n",
    "    \n",
    "#     ##BELOW scatter plot / 2D hist plot\n",
    "    \n",
    "#     # start with a rectangular Figure\n",
    "#     pyplot.figure(figsize=(3, 3))\n",
    "\n",
    "#     ax_scatter = pyplot.axes(rect_scatter)\n",
    "#     ax_scatter.tick_params(direction='in', top=True, right=True)\n",
    "#     ax_histx = pyplot.axes(rect_histx)\n",
    "#     ax_histx.tick_params(direction='in', labelbottom=False)\n",
    "#     ax_histy = pyplot.axes(rect_histy)\n",
    "#     ax_histy.tick_params(direction='in', labelleft=False)\n",
    "    \n",
    "#     # the scatter plot:\n",
    "#     ax_scatter.hist2d(x, y,bins=100) ##Color=rgba\n",
    "#     ax_scatter.set_xlim(0,x.max())\n",
    "#     ax_scatter.set_ylim(0,y.max())\n",
    "#     ax_scatter.set_xlabel(col1)\n",
    "#     ax_scatter.set_ylabel(col2)\n",
    "\n",
    "#     # now determine nice limits by hand:\n",
    "#     binwidth = 4\n",
    "#     lim = np.ceil(np.abs([x, y]).max() / binwidth) * binwidth\n",
    "\n",
    "#     bins = np.arange(-lim, lim + binwidth, binwidth)\n",
    "#     ax_histx.hist(x, bins=100)\n",
    "#     ax_histx.set_title(sample_name+\"\\n\"+f+\"\\nn=\"+str(len(x))+\" x_med:\"+str(round(numpy.median(x),1))+\" sd%:\"+str(round(numpy.std(x)/numpy.median(x)*100,1)))\n",
    "#     ax_histy.hist(y, bins=100, orientation='horizontal')\n",
    "\n",
    "#     ax_histx.set_xlim(ax_scatter.get_xlim())\n",
    "#     ax_histy.set_ylim(ax_scatter.get_ylim())\n",
    "\n",
    "#     pyplot.show()"
   ]
  },
  {
   "cell_type": "markdown",
   "metadata": {},
   "source": [
    " "
   ]
  }
 ],
 "metadata": {
  "kernelspec": {
   "display_name": "Python 3",
   "language": "python",
   "name": "python3"
  },
  "language_info": {
   "codemirror_mode": {
    "name": "ipython",
    "version": 3
   },
   "file_extension": ".py",
   "mimetype": "text/x-python",
   "name": "python",
   "nbconvert_exporter": "python",
   "pygments_lexer": "ipython3",
   "version": "3.7.8"
  }
 },
 "nbformat": 4,
 "nbformat_minor": 4
}
